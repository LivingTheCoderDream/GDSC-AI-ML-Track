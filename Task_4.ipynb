{
  "nbformat": 4,
  "nbformat_minor": 0,
  "metadata": {
    "colab": {
      "name": "Task 4.ipynb",
      "provenance": []
    },
    "kernelspec": {
      "name": "python3",
      "display_name": "Python 3"
    },
    "language_info": {
      "name": "python"
    },
    "accelerator": "GPU",
    "gpuClass": "standard"
  },
  "cells": [
    {
      "cell_type": "code",
      "execution_count": 31,
      "metadata": {
        "id": "xy4nyXovNbCB"
      },
      "outputs": [],
      "source": [
        "import tensorflow as tf\n",
        "from tensorflow import keras\n",
        "from keras.models import Sequential\n",
        "from keras.layers import Flatten, Conv2D, MaxPooling2D, Dropout, Dense\n",
        "from tensorflow.keras import layers\n",
        "from tensorflow.keras.utils import to_categorical\n",
        "import numpy as np\n",
        "import pandas as pd\n",
        "import matplotlib.pyplot as plt\n",
        "plt.style.use('fivethirtyeight') "
      ]
    },
    {
      "cell_type": "code",
      "source": [
        "from tensorflow.keras.datasets import cifar10\n",
        "(X_train, y_train), (X_test, y_test) = cifar10.load_data()"
      ],
      "metadata": {
        "id": "iJafg8MXOAJE"
      },
      "execution_count": 32,
      "outputs": []
    },
    {
      "cell_type": "code",
      "source": [
        "print(type(X_train), type(y_train), type(X_test), type(y_test))"
      ],
      "metadata": {
        "colab": {
          "base_uri": "https://localhost:8080/",
          "height": 0
        },
        "id": "ihdhtLPfOfRX",
        "outputId": "9467821a-9d7b-4c40-e6f4-fdeb95e17241"
      },
      "execution_count": 33,
      "outputs": [
        {
          "output_type": "stream",
          "name": "stdout",
          "text": [
            "<class 'numpy.ndarray'> <class 'numpy.ndarray'> <class 'numpy.ndarray'> <class 'numpy.ndarray'>\n"
          ]
        }
      ]
    },
    {
      "cell_type": "code",
      "source": [
        "print(X_train.shape)\n",
        "print(y_train.shape)\n",
        "print(X_test.shape)\n",
        "print(y_test.shape)"
      ],
      "metadata": {
        "colab": {
          "base_uri": "https://localhost:8080/",
          "height": 0
        },
        "id": "UICzhzTMOwOS",
        "outputId": "f1c8418e-b656-45b1-ea52-1d634e622536"
      },
      "execution_count": 34,
      "outputs": [
        {
          "output_type": "stream",
          "name": "stdout",
          "text": [
            "(50000, 32, 32, 3)\n",
            "(50000, 1)\n",
            "(10000, 32, 32, 3)\n",
            "(10000, 1)\n"
          ]
        }
      ]
    },
    {
      "cell_type": "code",
      "source": [
        "index = 0\n",
        "X_train[index]"
      ],
      "metadata": {
        "colab": {
          "base_uri": "https://localhost:8080/",
          "height": 0
        },
        "id": "2p46PpTBPCzn",
        "outputId": "9f99095a-a4cb-4557-9dd8-8d984f0d0a0b"
      },
      "execution_count": 35,
      "outputs": [
        {
          "output_type": "execute_result",
          "data": {
            "text/plain": [
              "array([[[ 59,  62,  63],\n",
              "        [ 43,  46,  45],\n",
              "        [ 50,  48,  43],\n",
              "        ...,\n",
              "        [158, 132, 108],\n",
              "        [152, 125, 102],\n",
              "        [148, 124, 103]],\n",
              "\n",
              "       [[ 16,  20,  20],\n",
              "        [  0,   0,   0],\n",
              "        [ 18,   8,   0],\n",
              "        ...,\n",
              "        [123,  88,  55],\n",
              "        [119,  83,  50],\n",
              "        [122,  87,  57]],\n",
              "\n",
              "       [[ 25,  24,  21],\n",
              "        [ 16,   7,   0],\n",
              "        [ 49,  27,   8],\n",
              "        ...,\n",
              "        [118,  84,  50],\n",
              "        [120,  84,  50],\n",
              "        [109,  73,  42]],\n",
              "\n",
              "       ...,\n",
              "\n",
              "       [[208, 170,  96],\n",
              "        [201, 153,  34],\n",
              "        [198, 161,  26],\n",
              "        ...,\n",
              "        [160, 133,  70],\n",
              "        [ 56,  31,   7],\n",
              "        [ 53,  34,  20]],\n",
              "\n",
              "       [[180, 139,  96],\n",
              "        [173, 123,  42],\n",
              "        [186, 144,  30],\n",
              "        ...,\n",
              "        [184, 148,  94],\n",
              "        [ 97,  62,  34],\n",
              "        [ 83,  53,  34]],\n",
              "\n",
              "       [[177, 144, 116],\n",
              "        [168, 129,  94],\n",
              "        [179, 142,  87],\n",
              "        ...,\n",
              "        [216, 184, 140],\n",
              "        [151, 118,  84],\n",
              "        [123,  92,  72]]], dtype=uint8)"
            ]
          },
          "metadata": {},
          "execution_count": 35
        }
      ]
    },
    {
      "cell_type": "code",
      "source": [
        "img = plt.imshow(X_train[0])"
      ],
      "metadata": {
        "colab": {
          "base_uri": "https://localhost:8080/",
          "height": 284
        },
        "id": "pVin3xUCPbHh",
        "outputId": "b47de73d-7c18-49c8-f5b4-d4ab42bb7445"
      },
      "execution_count": 36,
      "outputs": [
        {
          "output_type": "display_data",
          "data": {
            "text/plain": [
              "<Figure size 432x288 with 1 Axes>"
            ],
            "image/png": "[encoded data removed]"
          },
          "metadata": {}
        }
      ]
    },
    {
      "cell_type": "code",
      "source": [
        "print('Image Label : ', y_train[0])"
      ],
      "metadata": {
        "colab": {
          "base_uri": "https://localhost:8080/",
          "height": 0
        },
        "id": "uf56ptD3Pivj",
        "outputId": "4e8d8f66-70b1-47db-850d-59ffc9eb3ec0"
      },
      "execution_count": 37,
      "outputs": [
        {
          "output_type": "stream",
          "name": "stdout",
          "text": [
            "Image Label :  [6]\n"
          ]
        }
      ]
    },
    {
      "cell_type": "code",
      "source": [
        "classification = ['airplane', 'automobile', 'bird', 'cat', 'deer', 'dog', 'frog', 'horse', 'ship', 'truck']"
      ],
      "metadata": {
        "id": "_BlzO5OXPzj2"
      },
      "execution_count": 38,
      "outputs": []
    },
    {
      "cell_type": "code",
      "source": [
        "y_train_one_hot = to_categorical(y_train)\n",
        "y_test_one_hot = to_categorical(y_test)"
      ],
      "metadata": {
        "id": "-tFSMM_MTvKy"
      },
      "execution_count": 39,
      "outputs": []
    },
    {
      "cell_type": "code",
      "source": [
        "print(y_train_one_hot)"
      ],
      "metadata": {
        "colab": {
          "base_uri": "https://localhost:8080/",
          "height": 0
        },
        "id": "7wPfcAhKT2-U",
        "outputId": "3c6389be-ef54-4e53-dc78-dfd82c184144"
      },
      "execution_count": 40,
      "outputs": [
        {
          "output_type": "stream",
          "name": "stdout",
          "text": [
            "[[0. 0. 0. ... 0. 0. 0.]\n",
            " [0. 0. 0. ... 0. 0. 1.]\n",
            " [0. 0. 0. ... 0. 0. 1.]\n",
            " ...\n",
            " [0. 0. 0. ... 0. 0. 1.]\n",
            " [0. 1. 0. ... 0. 0. 0.]\n",
            " [0. 1. 0. ... 0. 0. 0.]]\n"
          ]
        }
      ]
    },
    {
      "cell_type": "code",
      "source": [
        "X_train.shape"
      ],
      "metadata": {
        "colab": {
          "base_uri": "https://localhost:8080/",
          "height": 0
        },
        "id": "epKXUTaZXDdw",
        "outputId": "89a4f98f-61e9-4c1e-aa10-22c0eacf6988"
      },
      "execution_count": 41,
      "outputs": [
        {
          "output_type": "execute_result",
          "data": {
            "text/plain": [
              "(50000, 32, 32, 3)"
            ]
          },
          "metadata": {},
          "execution_count": 41
        }
      ]
    },
    {
      "cell_type": "code",
      "source": [
        "# Normalize pixel values between 0 and 1\n",
        "\n",
        "X_train = X_train / 255.0\n",
        "X_test = X_test / 255.0\n"
      ],
      "metadata": {
        "id": "EayrN4CdT_Qo"
      },
      "execution_count": 42,
      "outputs": []
    },
    {
      "cell_type": "code",
      "source": [
        "X_train.shape"
      ],
      "metadata": {
        "colab": {
          "base_uri": "https://localhost:8080/",
          "height": 0
        },
        "id": "3ukmYuFcXFFj",
        "outputId": "be4a0f4b-17b2-4584-dc59-3a41ef80909d"
      },
      "execution_count": 43,
      "outputs": [
        {
          "output_type": "execute_result",
          "data": {
            "text/plain": [
              "(50000, 32, 32, 3)"
            ]
          },
          "metadata": {},
          "execution_count": 43
        }
      ]
    },
    {
      "cell_type": "code",
      "source": [
        "# model = Sequential()\n",
        "\n",
        "# model.add(Conv2D(32, (5, 5), activation = 'relu', input_shape = (32, 32, 3)))\n",
        "\n",
        "# model.add(MaxPooling2D(pool_size=(2, 2)))\n",
        "\n",
        "# model.add(Conv2D(32, (5, 5), activation = 'relu'))\n",
        "\n",
        "# model.add(MaxPooling2D(pool_size=(2, 2)))\n",
        "\n",
        "# model.add( Flatten())\n",
        "\n",
        "# model.add(Dense(1000, activation = 'relu'))\n",
        "\n",
        "# model.add(Dropout(0.5))\n",
        "\n",
        "# model.add(Dense(500, activation = 'relu'))\n",
        "\n",
        "# model.add(Dropout(0.5))\n",
        "\n",
        "# model.add(Dense(250, activation = 'relu'))\n",
        "\n",
        "# model.add(Dense(10, activation = 'softmax'))"
      ],
      "metadata": {
        "id": "37C8oB-rUR_f"
      },
      "execution_count": 44,
      "outputs": []
    },
    {
      "cell_type": "code",
      "source": [
        "# model.compile(loss='categorical_crossentropy', optimizer = 'adam', metrics = ['accuracy'])"
      ],
      "metadata": {
        "id": "wHI5qFUQU6F-"
      },
      "execution_count": 45,
      "outputs": []
    },
    {
      "cell_type": "code",
      "source": [
        "# callbacks = [tf.keras.callbacks.EarlyStopping(monitor='val_loss', patience=2)]\n",
        "# , callbacks = callback"
      ],
      "metadata": {
        "id": "tAhtQzgUWm38"
      },
      "execution_count": 46,
      "outputs": []
    },
    {
      "cell_type": "code",
      "source": [
        "# hist = model.fit(X_train, y_train_one_hot, batch_size = 32, epochs = 30, validation_split = 0.2)\n"
      ],
      "metadata": {
        "id": "2DCXwOXKVuul"
      },
      "execution_count": 47,
      "outputs": []
    },
    {
      "cell_type": "code",
      "source": [
        "labelNames = \"1234567890\""
      ],
      "metadata": {
        "id": "-3MAWEyOcHsL"
      },
      "execution_count": 48,
      "outputs": []
    },
    {
      "cell_type": "code",
      "source": [
        "# import the necessary packages\n",
        "from tensorflow.keras.layers import BatchNormalization\n",
        "from tensorflow.keras.layers import Conv2D\n",
        "from tensorflow.keras.layers import AveragePooling2D\n",
        "from tensorflow.keras.layers import MaxPooling2D\n",
        "from tensorflow.keras.layers import ZeroPadding2D\n",
        "from tensorflow.keras.layers import Activation\n",
        "from tensorflow.keras.layers import Dense\n",
        "from tensorflow.keras.layers import Flatten\n",
        "from tensorflow.keras.layers import Input\n",
        "from tensorflow.keras.models import Model\n",
        "from tensorflow.keras.layers import add\n",
        "from tensorflow.keras.regularizers import l2\n",
        "from tensorflow.keras import backend as K\n",
        "\n",
        "class ResNet:\n",
        "\t@staticmethod\n",
        "\tdef residual_module(data, K, stride, chanDim, red=False,\n",
        "\t\treg=0.0001, bnEps=2e-5, bnMom=0.9):\n",
        "\t\t# the shortcut branch of the ResNet module should be\n",
        "\t\t# initialize as the input (identity) data\n",
        "\t\tshortcut = data\n",
        "\n",
        "\t\t# the first block of the ResNet module are the 1x1 CONVs\n",
        "\t\tbn1 = BatchNormalization(axis=chanDim, epsilon=bnEps,\n",
        "\t\t\tmomentum=bnMom)(data)\n",
        "\t\tact1 = Activation(\"relu\")(bn1)\n",
        "\t\tconv1 = Conv2D(int(K * 0.25), (1, 1), use_bias=False,\n",
        "\t\t\tkernel_regularizer=l2(reg))(act1)\n",
        "\n",
        "\t\t# the second block of the ResNet module are the 3x3 CONVs\n",
        "\t\tbn2 = BatchNormalization(axis=chanDim, epsilon=bnEps,\n",
        "\t\t\tmomentum=bnMom)(conv1)\n",
        "\t\tact2 = Activation(\"relu\")(bn2)\n",
        "\t\tconv2 = Conv2D(int(K * 0.25), (3, 3), strides=stride,\n",
        "\t\t\tpadding=\"same\", use_bias=False,\n",
        "\t\t\tkernel_regularizer=l2(reg))(act2)\n",
        "\n",
        "\t\t# the third block of the ResNet module is another set of 1x1\n",
        "\t\t# CONVs\n",
        "\t\tbn3 = BatchNormalization(axis=chanDim, epsilon=bnEps,\n",
        "\t\t\tmomentum=bnMom)(conv2)\n",
        "\t\tact3 = Activation(\"relu\")(bn3)\n",
        "\t\tconv3 = Conv2D(K, (1, 1), use_bias=False,\n",
        "\t\t\tkernel_regularizer=l2(reg))(act3)\n",
        "\n",
        "\t\t# if we are to reduce the spatial size, apply a CONV layer to\n",
        "\t\t# the shortcut\n",
        "\t\tif red:\n",
        "\t\t\tshortcut = Conv2D(K, (1, 1), strides=stride,\n",
        "\t\t\t\tuse_bias=False, kernel_regularizer=l2(reg))(act1)\n",
        "\n",
        "\t\t# add together the shortcut and the final CONV\n",
        "\t\tx = add([conv3, shortcut])\n",
        "\n",
        "\t\t# return the addition as the output of the ResNet module\n",
        "\t\treturn x\n",
        "\n",
        "\t@staticmethod\n",
        "\tdef build(width, height, depth, classes, stages, filters,\n",
        "\t\treg=0.0001, bnEps=2e-5, bnMom=0.9, dataset=\"cifar\"):\n",
        "\t\t# initialize the input shape to be \"channels last\" and the\n",
        "\t\t# channels dimension itself\n",
        "\t\tinputShape = (height, width, depth)\n",
        "\t\tchanDim = -1\n",
        "\n",
        "\t\t# if we are using \"channels first\", update the input shape\n",
        "\t\t# and channels dimension\n",
        "\t\tif K.image_data_format() == \"channels_first\":\n",
        "\t\t\tinputShape = (depth, height, width)\n",
        "\t\t\tchanDim = 1\n",
        "\n",
        "\t\t# set the input and then apply a BN followed by CONV\n",
        "\t\tinputs = Input(shape=inputShape)\n",
        "\t\tx = BatchNormalization(axis=chanDim, epsilon=bnEps,\n",
        "\t\t\tmomentum=bnMom)(inputs)\n",
        "\t\tx = Conv2D(filters[0], (3, 3), use_bias=False,\n",
        "\t\t\tpadding=\"same\", kernel_regularizer=l2(reg))(x)\n",
        "\n",
        "\t\t# loop over the number of stages\n",
        "\t\tfor i in range(0, len(stages)):\n",
        "\t\t\t# initialize the stride, then apply a residual module\n",
        "\t\t\t# used to reduce the spatial size of the input volume\n",
        "\t\t\tstride = (1, 1) if i == 0 else (2, 2)\n",
        "\t\t\tx = ResNet.residual_module(x, filters[i + 1], stride,\n",
        "\t\t\t\tchanDim, red=True, bnEps=bnEps, bnMom=bnMom)\n",
        "\n",
        "\t\t\t# loop over the number of layers in the stage\n",
        "\t\t\tfor j in range(0, stages[i] - 1):\n",
        "\t\t\t\t# apply a ResNet module\n",
        "\t\t\t\tx = ResNet.residual_module(x, filters[i + 1],\n",
        "\t\t\t\t\t(1, 1), chanDim, bnEps=bnEps, bnMom=bnMom)\n",
        "\n",
        "\t\t# apply BN => ACT => POOL\n",
        "\t\tx = BatchNormalization(axis=chanDim, epsilon=bnEps,\n",
        "\t\t\tmomentum=bnMom)(x)\n",
        "\t\tx = Activation(\"relu\")(x)\n",
        "\t\tx = AveragePooling2D((8, 8))(x)\n",
        "\n",
        "\t\t# softmax classifier\n",
        "\t\tx = Flatten()(x)\n",
        "\t\tx = Dense(classes, kernel_regularizer=l2(reg))(x)\n",
        "\t\tx = Activation(\"softmax\")(x)\n",
        "\n",
        "\t\t# create the model\n",
        "\t\tmodel = Model(inputs, x, name=\"resnet\")\n",
        "\n",
        "\t\t# return the constructed network architecture\n",
        "\t\treturn model"
      ],
      "metadata": {
        "id": "0WiRxmKQV_4W"
      },
      "execution_count": 49,
      "outputs": []
    },
    {
      "cell_type": "code",
      "source": [
        "(X_train, y_train), (X_test, y_test) = cifar10.load_data()"
      ],
      "metadata": {
        "id": "z0RtKrWfaS7q"
      },
      "execution_count": 50,
      "outputs": []
    },
    {
      "cell_type": "code",
      "source": [
        "data = np.vstack([X_train, X_test])\n",
        "labels = np.vstack([y_train, y_test])"
      ],
      "metadata": {
        "id": "EDq82jmnfqZo"
      },
      "execution_count": 51,
      "outputs": []
    },
    {
      "cell_type": "code",
      "source": [
        "data.shape"
      ],
      "metadata": {
        "colab": {
          "base_uri": "https://localhost:8080/",
          "height": 0
        },
        "id": "iqWD4RU_bbD8",
        "outputId": "8d8ca71c-8cb7-410a-9f60-11673f037e15"
      },
      "execution_count": 52,
      "outputs": [
        {
          "output_type": "execute_result",
          "data": {
            "text/plain": [
              "(60000, 32, 32, 3)"
            ]
          },
          "metadata": {},
          "execution_count": 52
        }
      ]
    },
    {
      "cell_type": "code",
      "source": [
        "labels.shape"
      ],
      "metadata": {
        "colab": {
          "base_uri": "https://localhost:8080/",
          "height": 0
        },
        "id": "9jZ0s74Vgn29",
        "outputId": "c997a45b-5ebf-4631-892e-0fc31c469a21"
      },
      "execution_count": 53,
      "outputs": [
        {
          "output_type": "execute_result",
          "data": {
            "text/plain": [
              "(60000, 1)"
            ]
          },
          "metadata": {},
          "execution_count": 53
        }
      ]
    },
    {
      "cell_type": "code",
      "source": [
        "\n",
        "import matplotlib\n",
        "matplotlib.use(\"Agg\")\n",
        "\n",
        "# from pyimagesearch.models import ResNet\n",
        "# from pyimagesearch.az_dataset import load_mnist_dataset\n",
        "# from pyimagesearch.az_dataset import load_az_dataset\n",
        "\n",
        "from tensorflow.keras.preprocessing.image import ImageDataGenerator\n",
        "from tensorflow.keras.optimizers import SGD\n",
        "\n",
        "from sklearn.preprocessing import LabelBinarizer # One hot encoding the integers (ASCII) ???\n",
        "from sklearn.model_selection import train_test_split\n",
        "from sklearn.metrics import classification_report\n",
        "\n",
        "from imutils import build_montages # build a montage image of multiple images\n",
        "\n",
        "\n",
        "import matplotlib.pyplot as plt\n",
        "\n",
        "import numpy as np\n",
        "\n",
        "import argparse\n",
        "\n",
        "import cv2 # OpenCV\n",
        "from google.colab.patches import cv2_imshow\n",
        "\n",
        "EPOCHS = 50\n",
        "INIT_LR = 1e-1\n",
        "BS = 128"
      ],
      "metadata": {
        "id": "0DrLPIz7YRjo"
      },
      "execution_count": 54,
      "outputs": []
    },
    {
      "cell_type": "code",
      "source": [
        "data = data / 255.0"
      ],
      "metadata": {
        "id": "xNosVqm6bhDQ"
      },
      "execution_count": 55,
      "outputs": []
    },
    {
      "cell_type": "code",
      "source": [
        "# convert the labels from integers to vectors\n",
        "le = LabelBinarizer()\n",
        "labels = le.fit_transform(labels)\n",
        "counts = labels.sum(axis=0)\n",
        "\n",
        "# account for skew in the labeled data\n",
        "classTotals = labels.sum(axis=0)\n",
        "classWeight = {}\n",
        "\n",
        "# loop over all classes and calculate the class weight\n",
        "for i in range(0, len(classTotals)):\n",
        "\tclassWeight[i] = classTotals.max() / classTotals[i]\n",
        "\n",
        "# partition the data into training and testing splits using 80% of\n",
        "# the data for training and the remaining 20% for testing\n",
        "(trainX, testX, trainY, testY) = train_test_split(data,labels, test_size=0.20, random_state=42)\n",
        "\n",
        "aug = ImageDataGenerator(\n",
        "\trotation_range=10,\n",
        "\tzoom_range=0.05,\n",
        "\twidth_shift_range=0.1,\n",
        "\theight_shift_range=0.1,\n",
        "\tshear_range=0.15,\n",
        "\thorizontal_flip=False,\n",
        "\tfill_mode=\"nearest\")\n",
        "\n",
        "print(\"[INFO] compiling model...\")\n",
        "opt = SGD(lr=INIT_LR, decay=INIT_LR / EPOCHS)\n",
        "model = ResNet.build(32, 32, 3, len(le.classes_), (3, 3, 3),\n",
        "\t(64, 64, 128, 256), reg=0.0005)\n",
        "model.compile(loss=\"categorical_crossentropy\", optimizer=opt,\n",
        "\tmetrics=[\"accuracy\"])\n",
        "\n",
        "# train the network\n",
        "print(\"[INFO] training network...\")\n",
        "H = model.fit(\n",
        "\taug.flow(trainX, trainY, batch_size=BS),\n",
        "\tvalidation_data=(testX, testY),\n",
        "\tsteps_per_epoch=len(trainX) // BS,\n",
        "\tepochs=EPOCHS,\n",
        "\tclass_weight=classWeight,\n",
        "\tverbose=1)"
      ],
      "metadata": {
        "colab": {
          "base_uri": "https://localhost:8080/",
          "height": 0
        },
        "id": "D31oV-u6Z0UF",
        "outputId": "4dfd6293-522f-4650-e9e1-d56b6943fba8"
      },
      "execution_count": 56,
      "outputs": [
        {
          "output_type": "stream",
          "name": "stdout",
          "text": [
            "[INFO] compiling model...\n"
          ]
        },
        {
          "output_type": "stream",
          "name": "stderr",
          "text": [
            "/usr/local/lib/python3.7/dist-packages/keras/optimizer_v2/gradient_descent.py:102: UserWarning: The `lr` argument is deprecated, use `learning_rate` instead.\n",
            "  super(SGD, self).__init__(name, **kwargs)\n"
          ]
        },
        {
          "output_type": "stream",
          "name": "stdout",
          "text": [
            "[INFO] training network...\n",
            "Epoch 1/50\n",
            "375/375 [==============================] - 37s 91ms/step - loss: 1.8456 - accuracy: 0.3823 - val_loss: 1.6644 - val_accuracy: 0.4564\n",
            "Epoch 2/50\n",
            "375/375 [==============================] - 34s 90ms/step - loss: 1.5542 - accuracy: 0.5019 - val_loss: 1.6051 - val_accuracy: 0.4931\n",
            "Epoch 3/50\n",
            "375/375 [==============================] - 33s 89ms/step - loss: 1.4373 - accuracy: 0.5480 - val_loss: 1.4422 - val_accuracy: 0.5417\n",
            "Epoch 4/50\n",
            "375/375 [==============================] - 33s 89ms/step - loss: 1.3647 - accuracy: 0.5754 - val_loss: 1.3486 - val_accuracy: 0.5819\n",
            "Epoch 5/50\n",
            "375/375 [==============================] - 33s 88ms/step - loss: 1.3127 - accuracy: 0.5971 - val_loss: 1.3425 - val_accuracy: 0.5825\n",
            "Epoch 6/50\n",
            "375/375 [==============================] - 34s 90ms/step - loss: 1.2637 - accuracy: 0.6148 - val_loss: 1.3422 - val_accuracy: 0.5838\n",
            "Epoch 7/50\n",
            "375/375 [==============================] - 34s 90ms/step - loss: 1.2345 - accuracy: 0.6238 - val_loss: 1.2888 - val_accuracy: 0.6040\n",
            "Epoch 8/50\n",
            "375/375 [==============================] - 33s 88ms/step - loss: 1.2038 - accuracy: 0.6360 - val_loss: 1.2467 - val_accuracy: 0.6158\n",
            "Epoch 9/50\n",
            "375/375 [==============================] - 34s 89ms/step - loss: 1.1792 - accuracy: 0.6457 - val_loss: 1.2932 - val_accuracy: 0.6061\n",
            "Epoch 10/50\n",
            "375/375 [==============================] - 33s 88ms/step - loss: 1.1560 - accuracy: 0.6518 - val_loss: 1.1973 - val_accuracy: 0.6321\n",
            "Epoch 11/50\n",
            "375/375 [==============================] - 33s 88ms/step - loss: 1.1381 - accuracy: 0.6609 - val_loss: 1.2847 - val_accuracy: 0.6101\n",
            "Epoch 12/50\n",
            "375/375 [==============================] - 33s 88ms/step - loss: 1.1220 - accuracy: 0.6679 - val_loss: 1.2352 - val_accuracy: 0.6272\n",
            "Epoch 13/50\n",
            "375/375 [==============================] - 33s 89ms/step - loss: 1.1099 - accuracy: 0.6718 - val_loss: 1.1603 - val_accuracy: 0.6507\n",
            "Epoch 14/50\n",
            "375/375 [==============================] - 33s 88ms/step - loss: 1.0971 - accuracy: 0.6752 - val_loss: 1.1430 - val_accuracy: 0.6546\n",
            "Epoch 15/50\n",
            "375/375 [==============================] - 33s 88ms/step - loss: 1.0865 - accuracy: 0.6786 - val_loss: 1.1988 - val_accuracy: 0.6416\n",
            "Epoch 16/50\n",
            "375/375 [==============================] - 33s 89ms/step - loss: 1.0694 - accuracy: 0.6858 - val_loss: 1.1942 - val_accuracy: 0.6421\n",
            "Epoch 17/50\n",
            "375/375 [==============================] - 34s 90ms/step - loss: 1.0638 - accuracy: 0.6867 - val_loss: 1.1243 - val_accuracy: 0.6603\n",
            "Epoch 18/50\n",
            "375/375 [==============================] - 33s 88ms/step - loss: 1.0503 - accuracy: 0.6929 - val_loss: 1.1691 - val_accuracy: 0.6486\n",
            "Epoch 19/50\n",
            "375/375 [==============================] - 33s 89ms/step - loss: 1.0428 - accuracy: 0.6971 - val_loss: 1.0852 - val_accuracy: 0.6785\n",
            "Epoch 20/50\n",
            "375/375 [==============================] - 33s 89ms/step - loss: 1.0352 - accuracy: 0.6994 - val_loss: 1.1101 - val_accuracy: 0.6668\n",
            "Epoch 21/50\n",
            "375/375 [==============================] - 34s 90ms/step - loss: 1.0253 - accuracy: 0.7013 - val_loss: 1.1768 - val_accuracy: 0.6496\n",
            "Epoch 22/50\n",
            "375/375 [==============================] - 33s 88ms/step - loss: 1.0163 - accuracy: 0.7043 - val_loss: 1.1349 - val_accuracy: 0.6605\n",
            "Epoch 23/50\n",
            "375/375 [==============================] - 33s 88ms/step - loss: 1.0123 - accuracy: 0.7074 - val_loss: 1.1022 - val_accuracy: 0.6743\n",
            "Epoch 24/50\n",
            "375/375 [==============================] - 33s 89ms/step - loss: 1.0036 - accuracy: 0.7108 - val_loss: 1.0788 - val_accuracy: 0.6805\n",
            "Epoch 25/50\n",
            "375/375 [==============================] - 34s 90ms/step - loss: 0.9994 - accuracy: 0.7127 - val_loss: 1.0551 - val_accuracy: 0.6876\n",
            "Epoch 26/50\n",
            "375/375 [==============================] - 33s 88ms/step - loss: 0.9955 - accuracy: 0.7120 - val_loss: 1.1151 - val_accuracy: 0.6680\n",
            "Epoch 27/50\n",
            "375/375 [==============================] - 33s 88ms/step - loss: 0.9870 - accuracy: 0.7153 - val_loss: 1.0938 - val_accuracy: 0.6810\n",
            "Epoch 28/50\n",
            "375/375 [==============================] - 33s 88ms/step - loss: 0.9821 - accuracy: 0.7181 - val_loss: 1.0511 - val_accuracy: 0.6913\n",
            "Epoch 29/50\n",
            "375/375 [==============================] - 33s 89ms/step - loss: 0.9773 - accuracy: 0.7182 - val_loss: 1.0578 - val_accuracy: 0.6887\n",
            "Epoch 30/50\n",
            "375/375 [==============================] - 33s 88ms/step - loss: 0.9752 - accuracy: 0.7194 - val_loss: 1.0735 - val_accuracy: 0.6858\n",
            "Epoch 31/50\n",
            "375/375 [==============================] - 33s 89ms/step - loss: 0.9681 - accuracy: 0.7224 - val_loss: 1.0537 - val_accuracy: 0.6892\n",
            "Epoch 32/50\n",
            "375/375 [==============================] - 33s 88ms/step - loss: 0.9628 - accuracy: 0.7242 - val_loss: 1.0531 - val_accuracy: 0.6922\n",
            "Epoch 33/50\n",
            "375/375 [==============================] - 33s 88ms/step - loss: 0.9628 - accuracy: 0.7246 - val_loss: 1.0540 - val_accuracy: 0.6891\n",
            "Epoch 34/50\n",
            "375/375 [==============================] - 33s 87ms/step - loss: 0.9533 - accuracy: 0.7271 - val_loss: 1.0537 - val_accuracy: 0.6927\n",
            "Epoch 35/50\n",
            "375/375 [==============================] - 33s 88ms/step - loss: 0.9458 - accuracy: 0.7303 - val_loss: 1.0384 - val_accuracy: 0.6962\n",
            "Epoch 36/50\n",
            "375/375 [==============================] - 33s 88ms/step - loss: 0.9488 - accuracy: 0.7297 - val_loss: 1.0391 - val_accuracy: 0.6984\n",
            "Epoch 37/50\n",
            "375/375 [==============================] - 33s 89ms/step - loss: 0.9453 - accuracy: 0.7308 - val_loss: 1.0407 - val_accuracy: 0.6933\n",
            "Epoch 38/50\n",
            "375/375 [==============================] - 34s 90ms/step - loss: 0.9399 - accuracy: 0.7324 - val_loss: 1.0389 - val_accuracy: 0.6959\n",
            "Epoch 39/50\n",
            "375/375 [==============================] - 33s 88ms/step - loss: 0.9359 - accuracy: 0.7368 - val_loss: 1.0678 - val_accuracy: 0.6873\n",
            "Epoch 40/50\n",
            "375/375 [==============================] - 33s 89ms/step - loss: 0.9353 - accuracy: 0.7336 - val_loss: 1.0039 - val_accuracy: 0.7075\n",
            "Epoch 41/50\n",
            "375/375 [==============================] - 33s 88ms/step - loss: 0.9288 - accuracy: 0.7375 - val_loss: 1.0309 - val_accuracy: 0.6984\n",
            "Epoch 42/50\n",
            "375/375 [==============================] - 33s 88ms/step - loss: 0.9276 - accuracy: 0.7391 - val_loss: 1.0309 - val_accuracy: 0.6989\n",
            "Epoch 43/50\n",
            "375/375 [==============================] - 33s 88ms/step - loss: 0.9213 - accuracy: 0.7393 - val_loss: 1.0240 - val_accuracy: 0.7031\n",
            "Epoch 44/50\n",
            "375/375 [==============================] - 33s 88ms/step - loss: 0.9175 - accuracy: 0.7410 - val_loss: 1.0123 - val_accuracy: 0.7059\n",
            "Epoch 45/50\n",
            "375/375 [==============================] - 33s 88ms/step - loss: 0.9197 - accuracy: 0.7404 - val_loss: 1.0395 - val_accuracy: 0.6979\n",
            "Epoch 46/50\n",
            "375/375 [==============================] - 33s 87ms/step - loss: 0.9130 - accuracy: 0.7448 - val_loss: 0.9942 - val_accuracy: 0.7104\n",
            "Epoch 47/50\n",
            "375/375 [==============================] - 33s 87ms/step - loss: 0.9124 - accuracy: 0.7432 - val_loss: 1.0264 - val_accuracy: 0.7040\n",
            "Epoch 48/50\n",
            "375/375 [==============================] - 33s 88ms/step - loss: 0.9072 - accuracy: 0.7463 - val_loss: 1.0005 - val_accuracy: 0.7088\n",
            "Epoch 49/50\n",
            "375/375 [==============================] - 33s 88ms/step - loss: 0.9046 - accuracy: 0.7472 - val_loss: 1.0023 - val_accuracy: 0.7122\n",
            "Epoch 50/50\n",
            "375/375 [==============================] - 33s 88ms/step - loss: 0.9056 - accuracy: 0.7453 - val_loss: 1.0037 - val_accuracy: 0.7097\n"
          ]
        }
      ]
    },
    {
      "cell_type": "code",
      "source": [
        "print(\"[INFO] serializing network...\")\n",
        "\n",
        "model.save(\"/content/drive/MyDrive/OCR with Keras and Tensorflow/pyimagesearch/Final_OCR.model\", save_format=\"h5\") # changed place\n",
        "\n",
        "# construct a plot that plots and saves the training history\n",
        "N = np.arange(0, EPOCHS)\n",
        "plt.style.use(\"ggplot\")\n",
        "plt.figure()\n",
        "plt.plot(N, H.history[\"loss\"], label=\"train_loss\")\n",
        "plt.plot(N, H.history[\"val_loss\"], label=\"val_loss\")\n",
        "plt.title(\"Training Loss and Accuracy\")\n",
        "plt.xlabel(\"Epoch #\")\n",
        "plt.ylabel(\"Loss/Accuracy\")\n",
        "plt.legend(loc=\"lower left\")\n",
        "plt.savefig(\"/content/drive/MyDrive/OCR with Keras and Tensorflow/pyimagesearch/Final_PLOT.png\")\n",
        "\n",
        "# images = []\n",
        "# # randomly select a few testing characters\n",
        "# for i in np.random.choice(np.arange(0, len(testY)), size=(49,)):\n",
        "# \t# classify the character\n",
        "# \tprobs = model.predict(testX[np.newaxis, i])\n",
        "# \tprediction = probs.argmax(axis=1)\n",
        "# \tlabel = labelNames[prediction[0]]\n",
        "# \t# extract the image from the test data and initialize the text\n",
        "# \t# label color as green (correct)\n",
        "# \timage = (testX[i] * 255).astype(\"uint8\")\n",
        "# \tcolor = (0, 255, 0)\n",
        "# \t# otherwise, the class label prediction is incorrect\n",
        "# \tif prediction[0] != np.argmax(testY[i]):\n",
        "# \t\tcolor = (0, 0, 255)\n",
        "# \t# merge the channels into one image, resize the image from 32x32\n",
        "# \t# to 96x96 so we can better see it and then draw the predicted\n",
        "# \t# label on the image\n",
        "# \timage = cv2.merge([image] * 3)\n",
        "# \timage = cv2.resize(image, (96, 96), interpolation=cv2.INTER_LINEAR)\n",
        "#     # cv2_imshow(image)\n",
        "# \tcv2.putText(image, label, (5, 20), cv2.FONT_HERSHEY_SIMPLEX, 0.75,color, 2)\n",
        "# \t# add the image to our list of output images\n",
        "# \timages.append(image)\n",
        "# # construct the montage for the images\n",
        "# montage = build_montages(images, (96, 96), (7, 7))[0]\n",
        "# # show the output montage\n",
        "\n",
        "# cv2_imshow(montage)\n",
        "\n",
        "# cv2.waitKey(0)\n"
      ],
      "metadata": {
        "colab": {
          "base_uri": "https://localhost:8080/",
          "height": 329
        },
        "id": "tVJYV1PeaCr4",
        "outputId": "14743d9b-4b0b-47f3-9fce-14530ba7c76b"
      },
      "execution_count": 57,
      "outputs": [
        {
          "output_type": "stream",
          "name": "stdout",
          "text": [
            "[INFO] serializing network...\n"
          ]
        },
        {
          "output_type": "display_data",
          "data": {
            "text/plain": [
              "<Figure size 432x288 with 1 Axes>"
            ],
            "image/png": "[encoded data removed]"
          },
          "metadata": {}
        }
      ]
    },
    {
      "cell_type": "code",
      "source": [
        "probs = model.predict(testX[np.newaxis, i])\n",
        "prediction = probs.argmax(axis=1)\n",
        "label = labelNames[prediction[0]]"
      ],
      "metadata": {
        "id": "FkLasGR9fImy"
      },
      "execution_count": 58,
      "outputs": []
    },
    {
      "cell_type": "code",
      "source": [
        "print(prediction, label)"
      ],
      "metadata": {
        "colab": {
          "base_uri": "https://localhost:8080/",
          "height": 0
        },
        "id": "OVw9wuwhfPA3",
        "outputId": "df8ee38c-cf83-420f-ae36-6e026ef24028"
      },
      "execution_count": 59,
      "outputs": [
        {
          "output_type": "stream",
          "name": "stdout",
          "text": [
            "[0] 1\n"
          ]
        }
      ]
    },
    {
      "cell_type": "code",
      "source": [
        "print(\"[INFO] evaluating network...\")\n",
        "predictions = model.predict(testX, batch_size=BS)\n",
        "print(classification_report(testY.argmax(axis=1), predictions.argmax(axis=1), target_names=labelNames))\n"
      ],
      "metadata": {
        "colab": {
          "base_uri": "https://localhost:8080/",
          "height": 0
        },
        "id": "UoYocHI9h-9b",
        "outputId": "7f094a81-63e0-4b53-97c5-e55505b84b12"
      },
      "execution_count": 60,
      "outputs": [
        {
          "output_type": "stream",
          "name": "stdout",
          "text": [
            "[INFO] evaluating network...\n",
            "              precision    recall  f1-score   support\n",
            "\n",
            "           1       0.73      0.79      0.75      1181\n",
            "           2       0.85      0.85      0.85      1188\n",
            "           3       0.68      0.54      0.60      1232\n",
            "           4       0.60      0.39      0.48      1274\n",
            "           5       0.63      0.64      0.64      1179\n",
            "           6       0.71      0.51      0.59      1230\n",
            "           7       0.57      0.90      0.69      1123\n",
            "           8       0.69      0.82      0.75      1217\n",
            "           9       0.88      0.81      0.84      1189\n",
            "           0       0.80      0.89      0.84      1187\n",
            "\n",
            "    accuracy                           0.71     12000\n",
            "   macro avg       0.71      0.71      0.70     12000\n",
            "weighted avg       0.71      0.71      0.70     12000\n",
            "\n"
          ]
        }
      ]
    }
  ]
}